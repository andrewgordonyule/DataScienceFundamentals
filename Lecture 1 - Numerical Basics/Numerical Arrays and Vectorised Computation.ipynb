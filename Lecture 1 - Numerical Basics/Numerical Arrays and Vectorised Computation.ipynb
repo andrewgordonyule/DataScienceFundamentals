{
 "cells": [
  {
   "cell_type": "markdown",
   "id": "55123e06",
   "metadata": {},
   "source": [
    "# Lecture 1\n",
    "## Numerical Arrays and Vectorised Computation"
   ]
  },
  {
   "cell_type": "markdown",
   "id": "662d7411",
   "metadata": {},
   "source": [
    "### Setup\n",
    "Run next cell to install library used in examples."
   ]
  },
  {
   "cell_type": "code",
   "execution_count": 2,
   "id": "8cf7ef7f",
   "metadata": {},
   "outputs": [
    {
     "name": "stdout",
     "output_type": "stream",
     "text": [
      "Collecting https://github.com/johnhw/jhwutils/zipball/master\n",
      "  Downloading https://github.com/johnhw/jhwutils/zipball/master\n"
     ]
    }
   ],
   "source": [
    "!pip install -U --no-cache https://github.com/johnhw/jhwutils/zipball/master"
   ]
  },
  {
   "cell_type": "code",
   "execution_count": 3,
   "id": "3568f5ea",
   "metadata": {},
   "outputs": [
    {
     "name": "stderr",
     "output_type": "stream",
     "text": [
      "C:\\Users\\andre\\anaconda3\\lib\\site-packages\\IPython\\kernel\\__init__.py:12: ShimWarning: The `IPython.kernel` package has been deprecated since IPython 4.0.You should import from ipykernel or jupyter_client instead.\n",
      "  warn(\"The `IPython.kernel` package has been deprecated since IPython 4.0.\"\n"
     ]
    }
   ],
   "source": [
    "# various imports we will need\n",
    "import numpy as np\n",
    "import matplotlib as mpl\n",
    "import matplotlib.pyplot as plt\n",
    "\n",
    "import jhwutils.image_audio as image_audio\n",
    "from jhwutils.image_audio import (\n",
    "    play_sound,\n",
    "    show_image,\n",
    "    load_image_colour,\n",
    "    load_image_gray,\n",
    "    show_image_mpl,\n",
    "    load_sound,\n",
    "    play_sound,\n",
    ")\n",
    "from jhwutils.matrices import show_boxed_tensor_latex, print_matrix\n",
    "\n",
    "%matplotlib inline\n",
    "plt.rc(\"figure\", figsize=(14.0, 7.0))"
   ]
  },
  {
   "cell_type": "markdown",
   "id": "a3ba0955",
   "metadata": {},
   "source": [
    "### Topics covered in Lecture 1:\n",
    "* N-Dimensional Arrays (ndarrays)\n",
    "* Vectorised Computation\n",
    "    * Vector\n",
    "    * Matrix\n",
    "    * Tensor"
   ]
  },
  {
   "cell_type": "markdown",
   "id": "be076f76",
   "metadata": {},
   "source": [
    "## N-Dimensional Arrays\n",
    "\n",
    "### What is an N-Dimensional Array?\n",
    "\n",
    "An N-Dimensional Array (ndarray) is a container of items of the same type and size.\n",
    "\n",
    "It has a 'shape' which defines its number of dimensions and items.\n",
    "\n",
    "It also has a 'dtype' which specifies the data type of objects in the ndarray.\n"
   ]
  },
  {
   "cell_type": "code",
   "execution_count": 4,
   "id": "d4a7f3f1",
   "metadata": {
    "scrolled": true
   },
   "outputs": [
    {
     "name": "stdout",
     "output_type": "stream",
     "text": [
      "[1 2 3] int32 (3,)\n"
     ]
    }
   ],
   "source": [
    "x = np.array([1,2,3], np.int32)\n",
    "\n",
    "print(x, x.dtype, x.shape)"
   ]
  },
  {
   "cell_type": "markdown",
   "id": "24fea643",
   "metadata": {},
   "source": [
    "## Vectorisation\n",
    "\n",
    "### What is Vectorised Computation?\n",
    "\n",
    "Writing code that acts on arrays of values simultaneously.\n",
    "\n",
    "### Vectors, Matrix and Tensors\n",
    "\n",
    "\n",
    "A 'Vector' is a one-dimensional (1D) array of values:"
   ]
  },
  {
   "cell_type": "code",
   "execution_count": 16,
   "id": "a622773a",
   "metadata": {},
   "outputs": [],
   "source": [
    "vector = [0,1,2,3,4,5]"
   ]
  },
  {
   "cell_type": "markdown",
   "id": "a1dc0eb1",
   "metadata": {},
   "source": [
    "A 'Matrix' is a two-dimensional (2D) array of values with rows and columns:"
   ]
  },
  {
   "cell_type": "code",
   "execution_count": 17,
   "id": "13ad7e88",
   "metadata": {},
   "outputs": [],
   "source": [
    "matrix = [[1,2,3],\n",
    "         [4,5,6],\n",
    "         [7,8,9]]"
   ]
  },
  {
   "cell_type": "markdown",
   "id": "6566d0e4",
   "metadata": {},
   "source": [
    "A 'Tensor' is an array with more than two dimensions - more often known as an N-Dimensional Array (ndarray):"
   ]
  },
  {
   "cell_type": "code",
   "execution_count": 18,
   "id": "3937aeb8",
   "metadata": {},
   "outputs": [],
   "source": [
    "tensor = [[[1,2,3],\n",
    "         [4,5,6],\n",
    "         [7,8,9]],\n",
    "          \n",
    "         [[10,11,12],\n",
    "         [13,14,15],\n",
    "         [16,17,18]]]"
   ]
  },
  {
   "cell_type": "markdown",
   "id": "0964c0a4",
   "metadata": {},
   "source": [
    "## Array Operations\n",
    "\n",
    "There are many different operations that can be performed on arrays. Here are some examples:"
   ]
  },
  {
   "cell_type": "markdown",
   "id": "2177d848",
   "metadata": {},
   "source": [
    "### Slice\n",
    "\n",
    "Used to 'slice' out segments of the array."
   ]
  },
  {
   "cell_type": "code",
   "execution_count": 11,
   "id": "74838be3",
   "metadata": {},
   "outputs": [
    {
     "name": "stdout",
     "output_type": "stream",
     "text": [
      "[100 200 300]\n"
     ]
    }
   ],
   "source": [
    "complete_array = np.array([100,200,300,400,500])\n",
    "\n",
    "sliced_array = complete_array[0:3]\n",
    "\n",
    "print(sliced_array)"
   ]
  },
  {
   "cell_type": "markdown",
   "id": "799ba077",
   "metadata": {},
   "source": [
    "### Filter\n",
    "\n",
    "Filters results on matching criteria."
   ]
  },
  {
   "cell_type": "code",
   "execution_count": 13,
   "id": "c7f8a06b",
   "metadata": {},
   "outputs": [
    {
     "name": "stdout",
     "output_type": "stream",
     "text": [
      "[400 500]\n"
     ]
    }
   ],
   "source": [
    "matching_elements = complete_array[complete_array > 300]\n",
    "\n",
    "print(matching_elements)"
   ]
  },
  {
   "cell_type": "markdown",
   "id": "9c610531",
   "metadata": {},
   "source": [
    "### Reduce\n",
    "\n",
    "Reduce aggregates across dimensions of an array.\n",
    "\n",
    "What is the 'axis' for?"
   ]
  },
  {
   "cell_type": "code",
   "execution_count": 14,
   "id": "cb17cc43",
   "metadata": {},
   "outputs": [
    {
     "data": {
      "text/plain": [
       "array([15, 18, 21])"
      ]
     },
     "execution_count": 14,
     "metadata": {},
     "output_type": "execute_result"
    }
   ],
   "source": [
    "weights = np.array([[5,6,7],\n",
    "                  [5,6,7],\n",
    "                  [5,6,7]])\n",
    "\n",
    "np.sum(weights, axis=0)"
   ]
  },
  {
   "cell_type": "code",
   "execution_count": null,
   "id": "6525fb44",
   "metadata": {},
   "outputs": [],
   "source": []
  }
 ],
 "metadata": {
  "kernelspec": {
   "display_name": "Python 3",
   "language": "python",
   "name": "python3"
  },
  "language_info": {
   "codemirror_mode": {
    "name": "ipython",
    "version": 3
   },
   "file_extension": ".py",
   "mimetype": "text/x-python",
   "name": "python",
   "nbconvert_exporter": "python",
   "pygments_lexer": "ipython3",
   "version": "3.8.8"
  }
 },
 "nbformat": 4,
 "nbformat_minor": 5
}
