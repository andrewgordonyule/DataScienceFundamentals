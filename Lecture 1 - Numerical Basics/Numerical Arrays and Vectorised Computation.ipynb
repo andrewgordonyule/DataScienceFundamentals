{
 "cells": [
  {
   "cell_type": "markdown",
   "id": "55123e06",
   "metadata": {},
   "source": [
    "# Lecture 1\n",
    "## Numerical Arrays and Vectorised Computation"
   ]
  },
  {
   "cell_type": "markdown",
   "id": "662d7411",
   "metadata": {},
   "source": [
    "### Setup\n",
    "Run next cell to install library used in examples."
   ]
  },
  {
   "cell_type": "code",
   "execution_count": 2,
   "id": "8cf7ef7f",
   "metadata": {},
   "outputs": [
    {
     "name": "stdout",
     "output_type": "stream",
     "text": [
      "Collecting https://github.com/johnhw/jhwutils/zipball/master\n",
      "  Downloading https://github.com/johnhw/jhwutils/zipball/master\n"
     ]
    }
   ],
   "source": [
    "!pip install -U --no-cache https://github.com/johnhw/jhwutils/zipball/master"
   ]
  },
  {
   "cell_type": "code",
   "execution_count": 3,
   "id": "3568f5ea",
   "metadata": {},
   "outputs": [],
   "source": [
    "# various imports we will need\n",
    "import numpy as np\n",
    "import matplotlib as mpl\n",
    "import matplotlib.pyplot as plt\n",
    "\n",
    "import jhwutils.image_audio as image_audio\n",
    "from jhwutils.image_audio import (\n",
    "    play_sound,\n",
    "    show_image,\n",
    "    load_image_colour,\n",
    "    load_image_gray,\n",
    "    show_image_mpl,\n",
    "    load_sound,\n",
    "    play_sound,\n",
    ")\n",
    "from jhwutils.matrices import show_boxed_tensor_latex, print_matrix\n",
    "\n",
    "%matplotlib inline\n",
    "plt.rc(\"figure\", figsize=(14.0, 7.0))"
   ]
  },
  {
   "cell_type": "markdown",
   "id": "a3ba0955",
   "metadata": {},
   "source": [
    "### Topics covered in Lecture 1:\n",
    "* N-Dimensional Arrays (ndarrays)\n",
    "* Vectorised Computation\n",
    "    * Vector\n",
    "    * Matrix\n",
    "    * Tensor"
   ]
  },
  {
   "cell_type": "markdown",
   "id": "be076f76",
   "metadata": {},
   "source": [
    "## N-Dimensional Arrays\n",
    "\n",
    "### What is an N-Dimensional Array?\n",
    "\n",
    "An N-Dimensional Array (ndarray) is a container of items of the same type and size.\n",
    "\n",
    "It has a 'shape' which defines its number of dimensions and items.\n",
    "\n",
    "It also has a 'dtype' which specifies the data type of objects in the ndarray.\n"
   ]
  },
  {
   "cell_type": "code",
   "execution_count": 15,
   "id": "d4a7f3f1",
   "metadata": {
    "scrolled": true
   },
   "outputs": [
    {
     "name": "stdout",
     "output_type": "stream",
     "text": [
      "[1 2 3] int32 (3,)\n"
     ]
    }
   ],
   "source": [
    "x = np.array([1,2,3], np.int32)\n",
    "\n",
    "print(x, x.dtype, x.shape)"
   ]
  },
  {
   "cell_type": "markdown",
   "id": "24fea643",
   "metadata": {},
   "source": [
    "## Vectorisation\n",
    "\n",
    "### What is Vectorised Computation?\n",
    "\n",
    "Writing code that acts on arrays of values simultaneously.\n",
    "\n",
    "### Vectors, Matrix and Tensors\n",
    "\n",
    "\n",
    "A 'Vector' is a one-dimensional (1D) array of values:"
   ]
  },
  {
   "cell_type": "code",
   "execution_count": 16,
   "id": "a622773a",
   "metadata": {},
   "outputs": [],
   "source": [
    "vector = [0,1,2,3,4,5]"
   ]
  },
  {
   "cell_type": "markdown",
   "id": "a1dc0eb1",
   "metadata": {},
   "source": [
    "A 'Matrix' is a two-dimensional (2D) array of values with rows and columns:"
   ]
  },
  {
   "cell_type": "code",
   "execution_count": 17,
   "id": "13ad7e88",
   "metadata": {},
   "outputs": [],
   "source": [
    "matrix = [[1,2,3],\n",
    "         [4,5,6],\n",
    "         [7,8,9]]"
   ]
  },
  {
   "cell_type": "markdown",
   "id": "6566d0e4",
   "metadata": {},
   "source": [
    "A 'Tensor' is an array with more than two dimensions - more often known as an N-Dimensional Array (ndarray):"
   ]
  },
  {
   "cell_type": "code",
   "execution_count": 18,
   "id": "3937aeb8",
   "metadata": {},
   "outputs": [],
   "source": [
    "tensor = [[[1,2,3],\n",
    "         [4,5,6],\n",
    "         [7,8,9]],\n",
    "          \n",
    "         [[10,11,12],\n",
    "         [13,14,15],\n",
    "         [16,17,18]]]"
   ]
  },
  {
   "cell_type": "code",
   "execution_count": null,
   "id": "2ff0b662",
   "metadata": {},
   "outputs": [],
   "source": []
  }
 ],
 "metadata": {
  "kernelspec": {
   "display_name": "Python 3 (ipykernel)",
   "language": "python",
   "name": "python3"
  },
  "language_info": {
   "codemirror_mode": {
    "name": "ipython",
    "version": 3
   },
   "file_extension": ".py",
   "mimetype": "text/x-python",
   "name": "python",
   "nbconvert_exporter": "python",
   "pygments_lexer": "ipython3",
   "version": "3.9.7"
  }
 },
 "nbformat": 4,
 "nbformat_minor": 5
}
